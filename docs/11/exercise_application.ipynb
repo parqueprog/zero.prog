{
 "cells": [
  {
   "cell_type": "markdown",
   "metadata": {},
   "source": [
    "# 第11回：アプリケーションの作成（演習）\n",
    "\n",
    "学籍番号：...\n",
    "\n",
    "氏名：...\n",
    "\n",
    "---"
   ]
  },
  {
   "cell_type": "markdown",
   "metadata": {},
   "source": [
    "## 演習1：クラスの作成\n",
    "種（`species`）, 名前（`name`）, 飼育場所（`location`）, 体重（`weight`）, 年齢（`age`）のインスタンス変数を持つ `Animal` クラスを以下のコードを参考に作成せよ．\n",
    "\n",
    "\n",
    "**サンプルコード**\n",
    "\n",
    "```python\n",
    "class Animal:\n",
    "    def __init__(self, species, name, location):\n",
    "        self.species = species\n",
    "        self.name = name\n",
    "        self.location = location\n",
    "```"
   ]
  },
  {
   "cell_type": "code",
   "execution_count": null,
   "metadata": {},
   "outputs": [],
   "source": []
  },
  {
   "cell_type": "code",
   "execution_count": null,
   "metadata": {},
   "outputs": [],
   "source": [
    "# 解答"
   ]
  },
  {
   "cell_type": "markdown",
   "metadata": {},
   "source": [
    "## 演習2：インスタンス化\n",
    "種（`species`）, 名前（`name`）, 飼育場所（`location`）, 体重（`weight`）, 年齢（`age`）のインスタンス変数を持つ `Animal` クラスからインスタンスを作成せよ．また，以下の結果を出力するコードを作成せよ．\n",
    "\n",
    "```\n",
    "LionのHiroshimaはCage 1で飼育されています．5歳です．現在の体重は125です．\n",
    "ElephantのKureはCage 2で飼育されています．10歳です．現在の体重は500です．\n",
    "GiraffeのFukuyamaはCage 3で飼育されています．7歳です．現在の体重は200です．\n",
    "```\n",
    "\n",
    "\n",
    "ただし，変数に対応する値は以下とする．\n",
    "\n",
    "**インスタンス変数の値**\n",
    "| species  | name      | location | weight | age |\n",
    "|----------|-----------|----------|--------|-----|\n",
    "| Lion     | Hiroshima | Cage 1   | 125    | 5   |\n",
    "| Elephant | Kure      | Cage 2   | 500    | 10  |\n",
    "| Giraffe  | Fukuyama  | Cage 3   | 200    | 7   |"
   ]
  },
  {
   "cell_type": "code",
   "execution_count": null,
   "metadata": {},
   "outputs": [],
   "source": [
    "# 解答"
   ]
  },
  {
   "cell_type": "markdown",
   "metadata": {},
   "source": [
    "## 演習3：インスタンスメソッド\n",
    "演習2で作成したクラスを再定義して，以下の情報を出力するインスタンスメソッド `print_data` を作成せよ．\n",
    "\n",
    "```\n",
    "LionのHiroshimaはCage 1で飼育されています．5歳です．現在の体重は125です．\n",
    "ElephantのKureはCage 2で飼育されています．10歳です．現在の体重は500です．\n",
    "GiraffeのFukuyamaはCage 3で飼育されています．7歳です．現在の体重は200です．\n",
    "```"
   ]
  },
  {
   "cell_type": "code",
   "execution_count": null,
   "metadata": {},
   "outputs": [],
   "source": [
    "# 解答"
   ]
  },
  {
   "cell_type": "markdown",
   "metadata": {},
   "source": [
    "## 演習4：クラスのまとめ\n",
    "演習1-3で作成したクラスをベースに **どのような機能でも良い** ので，講義資料に含まれていないあなた自身が考えた独自の機能を（好きなだけ）追加せよ．また **説明** と書かれたMarkdownセルに追加した処理の機能について説明せよ．"
   ]
  },
  {
   "cell_type": "code",
   "execution_count": null,
   "metadata": {},
   "outputs": [],
   "source": [
    "# 解答"
   ]
  },
  {
   "cell_type": "markdown",
   "metadata": {},
   "source": [
    "**説明**\n",
    "..."
   ]
  },
  {
   "cell_type": "markdown",
   "metadata": {},
   "source": [
    "## 発展問題：画像の表示機能の追加\n",
    "継承機能を利用して，`Animal`クラスを再定義することなく，新たに `img_path` のインスタンス変数を受け取り，画像を表示可能な `AnimalImage` クラスを作成せよ．ただし，`img_path`は以下の表で定義され，画像を表示するインスタンス関数名は `plot_image`であるとする．\n",
    "\n",
    "| species  | name      | location | weight | age | img_path          |\n",
    "|----------|-----------|----------|--------|-----|-------------------|\n",
    "| lion     | Hiroshima | Cage 1   | 125    | 5   | data/lion.jpg     |\n",
    "| elephant | Kure      | Cage 2   | 500    | 10  | data/elephant.jpg |\n",
    "| giraffe  | Fukuyama  | Cage 3   | 200    | 7   | data/giraffe.jpg  |\n",
    "\n",
    "画像は以下で表示できるとする．詳細は講義資料を参考にされたい．\n",
    "\n",
    "```python\n",
    "img = Image.open(img_path)\n",
    "plt.figure()\n",
    "plt.title(name)\n",
    "plt.imshow(img)\n",
    "```\n",
    "\n",
    "\n",
    "前述の演習と講義資料のサンプルコードをベースに作成すると良い．もし難しければ以下のサンプルコードをベースに作成されたい．\n",
    "```python\n",
    "import os\n",
    "from PIL import Image\n",
    "import matplotlib.pyplot as plt\n",
    "%matplotlib inline\n",
    "\n",
    "class AnimalImage(Animal):\n",
    "    def __init__(self, species, name, location, weight, age, img_path):\n",
    "        self.img_path = img_path\n",
    "        super().__init__(species, name, location, weight, age)\n",
    "\n",
    "    def plot_image(self):\n",
    "        pass\n",
    "\n",
    "        ### 何もしない処理であるpassを削除し，以下に画像を表示するインスタンス関数を定義せよ\n",
    "\n",
    "\n",
    "        ###\n",
    "\n",
    "zoo = [\n",
    "    AnimalImage('Lion', 'Hiroshima', 'Cage 1', 125, 5, 'data/lion.jpg'),\n",
    "    AnimalImage('Elephant', 'Kure', 'Cage 2', 500, 10, 'data/elephant.jpg'),\n",
    "    AnimalImage('Giraffe', 'Fukuyama', 'Cage 3', 200, 7, 'data/giraffe.jpg')]\n",
    "\n",
    "for animal in zoo:\n",
    "    animal.plot_image()\n",
    "```\n"
   ]
  },
  {
   "cell_type": "markdown",
   "metadata": {},
   "source": [
    "講義資料にもあるように発展問題を解くためにまずはじめに画像をダウンロードしてください．"
   ]
  },
  {
   "cell_type": "code",
   "execution_count": null,
   "metadata": {},
   "outputs": [],
   "source": [
    "!mkdir data\n",
    "!wget -P data https://raw.githubusercontent.com/ground-zero-programming/zero-pro2022-public/main/docs/11/data/elephant.jpg\n",
    "!wget -P data https://raw.githubusercontent.com/ground-zero-programming/zero-pro2022-public/main/docs/11/data/giraffe.jpg\n",
    "!wget -P data https://raw.githubusercontent.com/ground-zero-programming/zero-pro2022-public/main/docs/11/data/lion.jpg"
   ]
  },
  {
   "cell_type": "code",
   "execution_count": null,
   "metadata": {},
   "outputs": [],
   "source": [
    "# 解答"
   ]
  },
  {
   "cell_type": "markdown",
   "metadata": {},
   "source": [
    "## 発展問題：画像をリサイズし，保存するインスタンス関数を実装する\n",
    "演習4で作成した `AnimalImage`クラスを継承し，画像をリサイズした後，保存する機能を持つ `AnimalEditor` クラスを作成せよ．ただし，画像のリサイズと保存は以下のコードを利用されたい．\n",
    "\n",
    "**画像の保存**\n",
    "```python\n",
    "os.makedirs('./output', exist_ok=True) # 画像を保存するディレクトリを作成\n",
    "resized_img_path = f'./output/resized_{name}.png' # 画像を保存するファイルを指定\n",
    "img.save(resized_img_path) # PILを利用して画像を保存\n",
    "```\n",
    "\n",
    "**画像のリサイズ**\n",
    "\n",
    "画像のリサイズとは画像の大きさ（解像度ともいう）を変更する処理である．以下のコードで`img`を高さと幅が $100 \\times 100$のサイズに変更できる．\n",
    "```python\n",
    "img = img.resize((100,100))\n",
    "```\n",
    "\n",
    "前述の演習と講義資料のサンプルコードをベースに作成すると良い．もし難しければ以下のサンプルコードをベースに作成されたい．\n",
    "```python\n",
    "import os\n",
    "from PIL import Image\n",
    "import matplotlib.pyplot as plt\n",
    "%matplotlib inline\n",
    "\n",
    "class AnimalEditor(AnimalImage):\n",
    "    def __init__(self, species, name, location, weight, age, img_path):\n",
    "        super().__init__(species, name, location, weight, age, img_path)\n",
    "\n",
    "    def resize_and_save_img(self):\n",
    "        pass\n",
    "\n",
    "        ### 何もしない処理であるpassを削除し，以下に画像をリサイズし保存するインスタンス関数を定義せよ\n",
    "\n",
    "\n",
    "        ###\n",
    "\n",
    "zoo = [\n",
    "    AnimalEditor('Lion', 'Hiroshima', 'Cage 1', 125, 5, 'data/lion.jpg'),\n",
    "    AnimalEditor('Elephant', 'Kure', 'Cage 2', 500, 10, 'data/elephant.jpg'),\n",
    "    AnimalEditor('Giraffe', 'Fukuyama', 'Cage 3', 200, 7, 'data/giraffe.jpg')]\n",
    "\n",
    "for animal in zoo:\n",
    "    animal.resize_and_save_img()\n",
    "```"
   ]
  },
  {
   "cell_type": "code",
   "execution_count": null,
   "metadata": {},
   "outputs": [],
   "source": [
    "# 解答"
   ]
  }
 ],
 "metadata": {
  "kernelspec": {
   "display_name": "Python 3.8.8 ('py38-ml')",
   "language": "python",
   "name": "python3"
  },
  "language_info": {
   "codemirror_mode": {
    "name": "ipython",
    "version": 3
   },
   "file_extension": ".py",
   "mimetype": "text/x-python",
   "name": "python",
   "nbconvert_exporter": "python",
   "pygments_lexer": "ipython3",
   "version": "3.8.8"
  },
  "orig_nbformat": 4,
  "vscode": {
   "interpreter": {
    "hash": "393df73654aeede13ebb91076020de1190a2bd60e987ac18d822283f0caa6730"
   }
  }
 },
 "nbformat": 4,
 "nbformat_minor": 2
}
