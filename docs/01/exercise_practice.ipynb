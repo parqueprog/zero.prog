{
 "cells": [
  {
   "cell_type": "markdown",
   "metadata": {},
   "source": [
    "# 第1回：課題提出練習\n",
    "\n",
    "学籍番号：...\n",
    "\n",
    "氏名：...\n",
    "\n",
    "---"
   ]
  },
  {
   "cell_type": "markdown",
   "metadata": {},
   "source": [
    "## 演習１\n",
    "↑にある学籍番号と氏名の欄にそれぞれ記入せよ"
   ]
  },
  {
   "cell_type": "markdown",
   "metadata": {},
   "source": [
    "## 演習２\n",
    "下記コードを実行して、実行結果を表示せよ"
   ]
  },
  {
   "cell_type": "code",
   "execution_count": null,
   "metadata": {
    "vscode": {
     "languageId": "plaintext"
    }
   },
   "outputs": [],
   "source": [
    "for i in range(10):\n",
    "  print('ゼロからはじめるプログラミング')"
   ]
  },
  {
   "cell_type": "markdown",
   "metadata": {},
   "source": [
    "## 演習３\n",
    "演習１・２を実施した状態でこのページをPDFに変換してMoodleの第１回課題からアップロードせよ"
   ]
  }
 ],
 "metadata": {
  "kernelspec": {
   "display_name": "Python 3.8.8 ('py38-ml')",
   "language": "python",
   "name": "python3"
  },
  "language_info": {
   "codemirror_mode": {
    "name": "ipython",
    "version": 3
   },
   "file_extension": ".py",
   "mimetype": "text/x-python",
   "name": "python",
   "nbconvert_exporter": "python",
   "pygments_lexer": "ipython3",
   "version": "3.8.8"
  },
  "orig_nbformat": 4,
  "vscode": {
   "interpreter": {
    "hash": "393df73654aeede13ebb91076020de1190a2bd60e987ac18d822283f0caa6730"
   }
  }
 },
 "nbformat": 4,
 "nbformat_minor": 2
}
